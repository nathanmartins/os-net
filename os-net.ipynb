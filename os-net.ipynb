{
 "cells": [
  {
   "cell_type": "markdown",
   "metadata": {},
   "source": [
    "# Olá! Seja bem-vindo ao OS-Net a melhor rede neural com apenas um neurônio!\n",
    "\n",
    "### Vamos estar treinando nossa rede para fazer a classificação de imagens do MNIST dataset usando o framework TensorFlow! A ideia por trás desse exercício é demonstrar o conceito de regressão logística e o tanto que apenas uma camada de neurônios pode ser poderosa!\n",
    "\n",
    "\n",
    "\n",
    "\n",
    "\n",
    "\n",
    "### O primeiro passo é importar nossas duas principais bibliotecas, vamos usar o TensorFlow para fazer o treinamento e o Matplotlib para montar nosso gráfico final. Também manipulamos a biblioteca padrão do TensorFlow para suprimir os avisos de versão."
   ]
  },
  {
   "cell_type": "code",
   "execution_count": 21,
   "metadata": {},
   "outputs": [],
   "source": [
    "import tensorflow as tf\n",
    "import matplotlib.pyplot as plt \n",
    "\n",
    "import tensorflow.python.util.deprecation as deprecation\n",
    "deprecation._PRINT_DEPRECATION_WARNINGS = False"
   ]
  },
  {
   "cell_type": "markdown",
   "metadata": {},
   "source": [
    "### Nosso próximo passo é fazer o download do nosso dataset. "
   ]
  },
  {
   "cell_type": "code",
   "execution_count": 22,
   "metadata": {},
   "outputs": [
    {
     "name": "stdout",
     "output_type": "stream",
     "text": [
      "Extracting /tmp/data/train-images-idx3-ubyte.gz\n",
      "Extracting /tmp/data/train-labels-idx1-ubyte.gz\n",
      "Extracting /tmp/data/t10k-images-idx3-ubyte.gz\n",
      "Extracting /tmp/data/t10k-labels-idx1-ubyte.gz\n"
     ]
    }
   ],
   "source": [
    "from tensorflow.examples.tutorials.mnist import input_data \n",
    "mnist = input_data.read_data_sets(\"/tmp/data/\", one_hot = True)"
   ]
  },
  {
   "cell_type": "markdown",
   "metadata": {},
   "source": [
    "### Esse dataset é divido em três partes, 55,000 pontos de dados de treinamento (mnist.train), 10,000 pontos de testes (mnist.test), e 5,000 pontos de validação (mnist.validation)."
   ]
  },
  {
   "cell_type": "markdown",
   "metadata": {},
   "source": [
    "### Agora vamos montar algumas parametrizações para nossa rede.\n",
    "\n",
    "### Vamos definir nosso ritmo de aprendizagem, a quantidade de epochs ou iterações que desejamos executar, e uma variavel auxiliar para sabermos em que passo estamos."
   ]
  },
  {
   "cell_type": "code",
   "execution_count": 40,
   "metadata": {},
   "outputs": [],
   "source": [
    "ritmo_de_ap = 0.01 \n",
    "num_epochs = 25 \n",
    "tamanho = 100 \n",
    "passo = 1"
   ]
  },
  {
   "cell_type": "markdown",
   "metadata": {},
   "source": [
    "### Agora vamos definir nossas entradas, teremos o x que será um vetor contendo as imagens e seu tamanho de 784 se dá ao fato de ao achatar a imagem temos um valor de (28*28) pixels, portanto 784, e o y que será um vetor contendo os dígitos de reconhecimento, nesse caso ele terá tamanho 10 pois usaremos 10 classes. \n",
    "\n",
    "### Essa função `placeholder` é uma função do `tf` que cria a estrutura de dados, nesse casos nossos dois vetores, e depois permitir que durante o treinamento esses dados estáticos, ou seja dados que não mudam sejam injetados dentro da estrutura de dados. "
   ]
  },
  {
   "cell_type": "code",
   "execution_count": 24,
   "metadata": {},
   "outputs": [],
   "source": [
    "x = tf.placeholder(\"float\", [None, 784]) \n",
    "y = tf.placeholder(\"float\", [None, 10]) "
   ]
  },
  {
   "cell_type": "markdown",
   "metadata": {},
   "source": [
    "### Agora vamos definir nosso modelo ao configurar seus pesos e seu 'bias'. \n",
    "\n",
    "### Essa função `Variable` embora similar ao `placeholder` pelo fato de permitir a criação de estruturas de dados, se difere pelo fato desses serem dinâmicos e podem ser mudados durante a execução do treinamento."
   ]
  },
  {
   "cell_type": "code",
   "execution_count": 25,
   "metadata": {},
   "outputs": [],
   "source": [
    "pesos = tf.Variable(tf.zeros([784, 10]))\n",
    "bias = tf.Variable(tf.zeros([10]))"
   ]
  },
  {
   "cell_type": "markdown",
   "metadata": {},
   "source": [
    "### Agora vamos montar nossa função de ativação, vamos usar função `softmax` muito parecida com a função sigmoid, essa permite ser aplicada sobre um regressão logística multi-classes ao invés da sigmoid que apenas funciona sobre regressões logísticas de duas classes, o efeito é o mesmo, estamos apenas colocando ele em um vetor com mais classes, no nosso caso 10 classes.\n",
    "\n",
    "### Essa função deve aceitar um `tensor`(é um contêiner que pode abrigar dados na dimensão N) que seja do tamanho no qual ela será operada. \n",
    "### Portanto é as nossas imagens x, mais os pesos e o bias, a função `matmul` apenas multiplca eles juntos."
   ]
  },
  {
   "cell_type": "code",
   "execution_count": 26,
   "metadata": {},
   "outputs": [],
   "source": [
    "ativa = tf.nn.softmax(tf.matmul(x, pesos) + bias)"
   ]
  },
  {
   "cell_type": "markdown",
   "metadata": {},
   "source": [
    "### \"Cross-Entropy\" ou  entropia cruzada usada para montar nossa função de custo ou de perdas, que a gente usa para comparar os resultados finais com através do nosso otimizador que vamos criar logo abaixo."
   ]
  },
  {
   "cell_type": "code",
   "execution_count": 27,
   "metadata": {},
   "outputs": [],
   "source": [
    "entropia = y * tf.log(ativa)"
   ]
  },
  {
   "cell_type": "markdown",
   "metadata": {},
   "source": [
    "### Nossa função de perdas ou custos, fazendo uso da entropia cruzada. "
   ]
  },
  {
   "cell_type": "code",
   "execution_count": 28,
   "metadata": {},
   "outputs": [],
   "source": [
    "custo = tf.reduce_mean(-tf.reduce_sum(entropia, 1))"
   ]
  },
  {
   "cell_type": "markdown",
   "metadata": {},
   "source": [
    "### Criando nossa função de otimizador. Basicamente é um compromisso entre a velocidade da aprendizagem e a precisão do resultado que pode ser obtido. Escolher um passo muito pequeno nos leva a cálculos tediosos e à necessidade de realizar muito mais iterações (epochs). Por outro lado, no entanto, escolher um valor muito alto pode efetivamente impedir-nos de encontrar o mínimo."
   ]
  },
  {
   "cell_type": "code",
   "execution_count": 35,
   "metadata": {},
   "outputs": [],
   "source": [
    "otimizador = tf.train.GradientDescentOptimizer(ritmo_de_ap).minimize(custo)"
   ]
  },
  {
   "cell_type": "markdown",
   "metadata": {},
   "source": [
    "### Vetores para uso do gráfico mais tarde."
   ]
  },
  {
   "cell_type": "code",
   "execution_count": 32,
   "metadata": {},
   "outputs": [],
   "source": [
    "media = [] \n",
    "epochs = [] "
   ]
  },
  {
   "cell_type": "markdown",
   "metadata": {},
   "source": [
    "### Nosso treinamento e montação do grafico final."
   ]
  },
  {
   "cell_type": "code",
   "execution_count": 44,
   "metadata": {},
   "outputs": [
    {
     "name": "stdout",
     "output_type": "stream",
     "text": [
      "Epoch: 1 || Custo: 1.18\n",
      "Epoch: 2 || Custo: 0.66\n",
      "Epoch: 3 || Custo: 0.55\n",
      "Epoch: 4 || Custo: 0.50\n",
      "Epoch: 5 || Custo: 0.46\n",
      "Epoch: 6 || Custo: 0.44\n",
      "Epoch: 7 || Custo: 0.42\n",
      "Epoch: 8 || Custo: 0.41\n",
      "Epoch: 9 || Custo: 0.40\n",
      "Epoch: 10 || Custo: 0.39\n",
      "Epoch: 11 || Custo: 0.38\n",
      "Epoch: 12 || Custo: 0.38\n",
      "Epoch: 13 || Custo: 0.37\n",
      "Epoch: 14 || Custo: 0.37\n",
      "Epoch: 15 || Custo: 0.36\n",
      "Epoch: 16 || Custo: 0.36\n",
      "Epoch: 17 || Custo: 0.35\n",
      "Epoch: 18 || Custo: 0.35\n",
      "Epoch: 19 || Custo: 0.35\n",
      "Epoch: 20 || Custo: 0.34\n",
      "Epoch: 21 || Custo: 0.34\n",
      "Epoch: 22 || Custo: 0.34\n",
      "Epoch: 23 || Custo: 0.34\n",
      "Epoch: 24 || Custo: 0.33\n",
      "Epoch: 25 || Custo: 0.33\n",
      "Treinamento encerrado.\n"
     ]
    },
    {
     "data": {
      "image/png": "[encoded data removed]",
      "text/plain": [
       "<Figure size 432x288 with 1 Axes>"
      ]
     },
     "metadata": {
      "needs_background": "light"
     },
     "output_type": "display_data"
    },
    {
     "name": "stdout",
     "output_type": "stream",
     "text": [
      "Precisão do modelo: 0.9134\n"
     ]
    }
   ],
   "source": [
    "init = tf.global_variables_initializer() # Iniciar as variavés globais. \n",
    "\n",
    "with tf.Session() as sess:\n",
    "    \n",
    "    sess.run(init)\n",
    "   \n",
    "   # Treinamento\n",
    "    for epoch in range(num_epochs):\n",
    "        custo_medio = 0.\n",
    "        tamanho_total = int(mnist.train.num_examples / tamanho)\n",
    "      \n",
    "        # Iterar sobre o dataset\n",
    "        for i in range(tamanho_total):\n",
    "\n",
    "            xs, ys = mnist.train.next_batch(tamanho)\n",
    "\n",
    "            # Otimizar os dados\n",
    "            sess.run(otimizador, feed_dict = {x: xs, y: ys})\n",
    "            \n",
    "            # Calcular a perda/custo médio\n",
    "            custo_medio += sess.run(custo, feed_dict = {x: xs, y: ys}) / tamanho_total\n",
    "\n",
    "        \n",
    "        if epoch % passo == 0:\n",
    "            print(\"Epoch: {} || Custo: {:.2f}\".format(epoch + 1,custo_medio))\n",
    "            media.append(custo_medio) \n",
    "            epochs.append(epoch + 1)\n",
    "\n",
    "    print(\"Treinamento encerrado.\")\n",
    "    plt.plot(epochs,media, 'o', label = 'Treinamento em regressão logística') \n",
    "    plt.ylabel('Perda') \n",
    "    plt.xlabel('Tempo') \n",
    "    plt.legend() \n",
    "    plt.show() \n",
    "    \n",
    "    # Validando o modelo com os dados de test \n",
    "    previsao_correta = tf.equal(tf.argmax(ativa, 1), tf.argmax(y, 1)) \n",
    "   \n",
    "    # Precisão do modelo\n",
    "    accuracy = tf.reduce_mean(tf.cast(previsao_correta, \"float\")) \n",
    "    print(\"Precisão do modelo:\", accuracy.eval({x: mnist.test.images, y: mnist.test.labels}))"
   ]
  }
 ],
 "metadata": {
  "kernelspec": {
   "display_name": "Python 3",
   "language": "python",
   "name": "python3"
  },
  "language_info": {
   "codemirror_mode": {
    "name": "ipython",
    "version": 3
   },
   "file_extension": ".py",
   "mimetype": "text/x-python",
   "name": "python",
   "nbconvert_exporter": "python",
   "pygments_lexer": "ipython3",
   "version": "3.7.3"
  }
 },
 "nbformat": 4,
 "nbformat_minor": 4
}
